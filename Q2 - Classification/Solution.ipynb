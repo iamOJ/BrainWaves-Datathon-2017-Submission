{
 "cells": [
  {
   "cell_type": "markdown",
   "metadata": {
    "collapsed": true
   },
   "source": [
    "# Question 2- Predict Fradulent Transactions\n",
    "\n",
    "___\n",
    "\n",
    "Brainwaves Hackathon\n",
    "\n",
    "Author: Ojaswi Kumar\n",
    "\n",
    "Date: 09-12-2017\n",
    "___"
   ]
  },
  {
   "cell_type": "code",
   "execution_count": 1,
   "metadata": {},
   "outputs": [
    {
     "name": "stderr",
     "output_type": "stream",
     "text": [
      "Using TensorFlow backend.\n"
     ]
    }
   ],
   "source": [
    "import pandas as pd\n",
    "import numpy as np\n",
    "from sklearn.preprocessing import OneHotEncoder,LabelEncoder\n",
    "from keras.utils import np_utils\n",
    "from sklearn.neural_network import MLPClassifier\n",
    "from sklearn.tree import DecisionTreeClassifier\n",
    "import matplotlib.pyplot as plt\n",
    "from sklearn.ensemble import RandomForestClassifier, AdaBoostClassifier\n",
    "from sklearn.neighbors import KNeighborsClassifier\n",
    "from sklearn.naive_bayes import GaussianNB\n",
    "from sklearn.svm import SVC\n",
    "%matplotlib inline"
   ]
  },
  {
   "cell_type": "markdown",
   "metadata": {},
   "source": [
    "## Import Dataset"
   ]
  },
  {
   "cell_type": "code",
   "execution_count": 2,
   "metadata": {
    "collapsed": true
   },
   "outputs": [],
   "source": [
    "data_train = pd.read_csv('train.csv')\n",
    "data_test = pd.read_csv('test.csv')\n",
    "frames = [data_train, data_test]\n",
    "data = pd.concat(frames)\n",
    "#data = data_train\n",
    "#y = data['target']\n",
    "X = data\n",
    "#X = data.drop('return',axis=1)"
   ]
  },
  {
   "cell_type": "markdown",
   "metadata": {},
   "source": [
    "## Visualize Data"
   ]
  },
  {
   "cell_type": "code",
   "execution_count": 3,
   "metadata": {},
   "outputs": [
    {
     "data": {
      "text/html": [
       "<div>\n",
       "<style>\n",
       "    .dataframe thead tr:only-child th {\n",
       "        text-align: right;\n",
       "    }\n",
       "\n",
       "    .dataframe thead th {\n",
       "        text-align: left;\n",
       "    }\n",
       "\n",
       "    .dataframe tbody tr th {\n",
       "        vertical-align: top;\n",
       "    }\n",
       "</style>\n",
       "<table border=\"1\" class=\"dataframe\">\n",
       "  <thead>\n",
       "    <tr style=\"text-align: right;\">\n",
       "      <th></th>\n",
       "      <th>cat_var_1</th>\n",
       "      <th>cat_var_10</th>\n",
       "      <th>cat_var_11</th>\n",
       "      <th>cat_var_12</th>\n",
       "      <th>cat_var_13</th>\n",
       "      <th>cat_var_14</th>\n",
       "      <th>cat_var_15</th>\n",
       "      <th>cat_var_16</th>\n",
       "      <th>cat_var_17</th>\n",
       "      <th>cat_var_18</th>\n",
       "      <th>...</th>\n",
       "      <th>cat_var_9</th>\n",
       "      <th>num_var_1</th>\n",
       "      <th>num_var_2</th>\n",
       "      <th>num_var_3</th>\n",
       "      <th>num_var_4</th>\n",
       "      <th>num_var_5</th>\n",
       "      <th>num_var_6</th>\n",
       "      <th>num_var_7</th>\n",
       "      <th>target</th>\n",
       "      <th>transaction_id</th>\n",
       "    </tr>\n",
       "  </thead>\n",
       "  <tbody>\n",
       "    <tr>\n",
       "      <th>0</th>\n",
       "      <td>NaN</td>\n",
       "      <td>db</td>\n",
       "      <td>iq</td>\n",
       "      <td>ep</td>\n",
       "      <td>ip</td>\n",
       "      <td>db</td>\n",
       "      <td>ep</td>\n",
       "      <td>tn</td>\n",
       "      <td>tn</td>\n",
       "      <td>ep</td>\n",
       "      <td>...</td>\n",
       "      <td>tn</td>\n",
       "      <td>2.302632e-08</td>\n",
       "      <td>0.040182</td>\n",
       "      <td>0.0</td>\n",
       "      <td>1.800000e-07</td>\n",
       "      <td>2.302632e-08</td>\n",
       "      <td>2.368421e-08</td>\n",
       "      <td>1.115205e-08</td>\n",
       "      <td>0.0</td>\n",
       "      <td>id_11</td>\n",
       "    </tr>\n",
       "    <tr>\n",
       "      <th>1</th>\n",
       "      <td>da</td>\n",
       "      <td>qt</td>\n",
       "      <td>iq</td>\n",
       "      <td>iq</td>\n",
       "      <td>hm</td>\n",
       "      <td>db</td>\n",
       "      <td>tn</td>\n",
       "      <td>tn</td>\n",
       "      <td>tn</td>\n",
       "      <td>tn</td>\n",
       "      <td>...</td>\n",
       "      <td>hr</td>\n",
       "      <td>7.965789e-06</td>\n",
       "      <td>0.157872</td>\n",
       "      <td>0.0</td>\n",
       "      <td>2.105000e-06</td>\n",
       "      <td>2.769737e-07</td>\n",
       "      <td>7.965789e-06</td>\n",
       "      <td>2.433058e-06</td>\n",
       "      <td>0.0</td>\n",
       "      <td>id_33</td>\n",
       "    </tr>\n",
       "    <tr>\n",
       "      <th>2</th>\n",
       "      <td>gf</td>\n",
       "      <td>mm</td>\n",
       "      <td>ce</td>\n",
       "      <td>tn</td>\n",
       "      <td>hr</td>\n",
       "      <td>db</td>\n",
       "      <td>ep</td>\n",
       "      <td>tn</td>\n",
       "      <td>tn</td>\n",
       "      <td>ep</td>\n",
       "      <td>...</td>\n",
       "      <td>hr</td>\n",
       "      <td>7.828947e-08</td>\n",
       "      <td>0.089140</td>\n",
       "      <td>0.0</td>\n",
       "      <td>3.550000e-07</td>\n",
       "      <td>4.671053e-08</td>\n",
       "      <td>1.052632e-07</td>\n",
       "      <td>4.276014e-07</td>\n",
       "      <td>0.0</td>\n",
       "      <td>id_51</td>\n",
       "    </tr>\n",
       "    <tr>\n",
       "      <th>3</th>\n",
       "      <td>NaN</td>\n",
       "      <td>es</td>\n",
       "      <td>iq</td>\n",
       "      <td>ep</td>\n",
       "      <td>ce</td>\n",
       "      <td>tn</td>\n",
       "      <td>ep</td>\n",
       "      <td>tn</td>\n",
       "      <td>tn</td>\n",
       "      <td>ep</td>\n",
       "      <td>...</td>\n",
       "      <td>ep</td>\n",
       "      <td>7.894737e-08</td>\n",
       "      <td>0.227239</td>\n",
       "      <td>0.0</td>\n",
       "      <td>1.050000e-06</td>\n",
       "      <td>1.381579e-07</td>\n",
       "      <td>2.190789e-07</td>\n",
       "      <td>1.848054e-08</td>\n",
       "      <td>0.0</td>\n",
       "      <td>id_54</td>\n",
       "    </tr>\n",
       "    <tr>\n",
       "      <th>4</th>\n",
       "      <td>da</td>\n",
       "      <td>xy</td>\n",
       "      <td>hr</td>\n",
       "      <td>iq</td>\n",
       "      <td>hm</td>\n",
       "      <td>db</td>\n",
       "      <td>tn</td>\n",
       "      <td>tn</td>\n",
       "      <td>tn</td>\n",
       "      <td>tn</td>\n",
       "      <td>...</td>\n",
       "      <td>ep</td>\n",
       "      <td>3.321053e-06</td>\n",
       "      <td>0.160410</td>\n",
       "      <td>0.0</td>\n",
       "      <td>2.105000e-06</td>\n",
       "      <td>2.769737e-07</td>\n",
       "      <td>3.340789e-06</td>\n",
       "      <td>2.152983e-06</td>\n",
       "      <td>0.0</td>\n",
       "      <td>id_62</td>\n",
       "    </tr>\n",
       "  </tbody>\n",
       "</table>\n",
       "<p>5 rows × 51 columns</p>\n",
       "</div>"
      ],
      "text/plain": [
       "  cat_var_1 cat_var_10 cat_var_11 cat_var_12 cat_var_13 cat_var_14 cat_var_15  \\\n",
       "0       NaN         db         iq         ep         ip         db         ep   \n",
       "1        da         qt         iq         iq         hm         db         tn   \n",
       "2        gf         mm         ce         tn         hr         db         ep   \n",
       "3       NaN         es         iq         ep         ce         tn         ep   \n",
       "4        da         xy         hr         iq         hm         db         tn   \n",
       "\n",
       "  cat_var_16 cat_var_17 cat_var_18       ...        cat_var_9     num_var_1  \\\n",
       "0         tn         tn         ep       ...               tn  2.302632e-08   \n",
       "1         tn         tn         tn       ...               hr  7.965789e-06   \n",
       "2         tn         tn         ep       ...               hr  7.828947e-08   \n",
       "3         tn         tn         ep       ...               ep  7.894737e-08   \n",
       "4         tn         tn         tn       ...               ep  3.321053e-06   \n",
       "\n",
       "   num_var_2  num_var_3     num_var_4     num_var_5     num_var_6  \\\n",
       "0   0.040182        0.0  1.800000e-07  2.302632e-08  2.368421e-08   \n",
       "1   0.157872        0.0  2.105000e-06  2.769737e-07  7.965789e-06   \n",
       "2   0.089140        0.0  3.550000e-07  4.671053e-08  1.052632e-07   \n",
       "3   0.227239        0.0  1.050000e-06  1.381579e-07  2.190789e-07   \n",
       "4   0.160410        0.0  2.105000e-06  2.769737e-07  3.340789e-06   \n",
       "\n",
       "      num_var_7  target  transaction_id  \n",
       "0  1.115205e-08     0.0           id_11  \n",
       "1  2.433058e-06     0.0           id_33  \n",
       "2  4.276014e-07     0.0           id_51  \n",
       "3  1.848054e-08     0.0           id_54  \n",
       "4  2.152983e-06     0.0           id_62  \n",
       "\n",
       "[5 rows x 51 columns]"
      ]
     },
     "execution_count": 3,
     "metadata": {},
     "output_type": "execute_result"
    }
   ],
   "source": [
    "X.head()"
   ]
  },
  {
   "cell_type": "code",
   "execution_count": 4,
   "metadata": {},
   "outputs": [
    {
     "data": {
      "text/html": [
       "<div>\n",
       "<style>\n",
       "    .dataframe thead tr:only-child th {\n",
       "        text-align: right;\n",
       "    }\n",
       "\n",
       "    .dataframe thead th {\n",
       "        text-align: left;\n",
       "    }\n",
       "\n",
       "    .dataframe tbody tr th {\n",
       "        vertical-align: top;\n",
       "    }\n",
       "</style>\n",
       "<table border=\"1\" class=\"dataframe\">\n",
       "  <thead>\n",
       "    <tr style=\"text-align: right;\">\n",
       "      <th></th>\n",
       "      <th>cat_var_19</th>\n",
       "      <th>cat_var_20</th>\n",
       "      <th>cat_var_21</th>\n",
       "      <th>cat_var_22</th>\n",
       "      <th>cat_var_23</th>\n",
       "      <th>cat_var_24</th>\n",
       "      <th>cat_var_25</th>\n",
       "      <th>cat_var_26</th>\n",
       "      <th>cat_var_27</th>\n",
       "      <th>cat_var_28</th>\n",
       "      <th>...</th>\n",
       "      <th>cat_var_41</th>\n",
       "      <th>cat_var_42</th>\n",
       "      <th>num_var_1</th>\n",
       "      <th>num_var_2</th>\n",
       "      <th>num_var_3</th>\n",
       "      <th>num_var_4</th>\n",
       "      <th>num_var_5</th>\n",
       "      <th>num_var_6</th>\n",
       "      <th>num_var_7</th>\n",
       "      <th>target</th>\n",
       "    </tr>\n",
       "  </thead>\n",
       "  <tbody>\n",
       "    <tr>\n",
       "      <th>count</th>\n",
       "      <td>872444.000000</td>\n",
       "      <td>872444.000000</td>\n",
       "      <td>872444.000000</td>\n",
       "      <td>872444.000000</td>\n",
       "      <td>872444.000000</td>\n",
       "      <td>872444.000000</td>\n",
       "      <td>872444.000000</td>\n",
       "      <td>872444.000000</td>\n",
       "      <td>872444.000000</td>\n",
       "      <td>872444.000000</td>\n",
       "      <td>...</td>\n",
       "      <td>872444.000000</td>\n",
       "      <td>872444.0</td>\n",
       "      <td>8.724440e+05</td>\n",
       "      <td>872444.000000</td>\n",
       "      <td>872444.000000</td>\n",
       "      <td>8.724440e+05</td>\n",
       "      <td>8.724440e+05</td>\n",
       "      <td>8.724440e+05</td>\n",
       "      <td>8.724440e+05</td>\n",
       "      <td>348978.000000</td>\n",
       "    </tr>\n",
       "    <tr>\n",
       "      <th>mean</th>\n",
       "      <td>0.521605</td>\n",
       "      <td>0.478395</td>\n",
       "      <td>0.672051</td>\n",
       "      <td>0.321927</td>\n",
       "      <td>0.006022</td>\n",
       "      <td>0.999099</td>\n",
       "      <td>0.000110</td>\n",
       "      <td>0.000572</td>\n",
       "      <td>0.000005</td>\n",
       "      <td>0.000024</td>\n",
       "      <td>...</td>\n",
       "      <td>0.000001</td>\n",
       "      <td>0.0</td>\n",
       "      <td>1.868032e-05</td>\n",
       "      <td>0.160743</td>\n",
       "      <td>0.000017</td>\n",
       "      <td>4.428487e-05</td>\n",
       "      <td>7.441069e-06</td>\n",
       "      <td>1.523872e-05</td>\n",
       "      <td>2.128609e-05</td>\n",
       "      <td>0.107078</td>\n",
       "    </tr>\n",
       "    <tr>\n",
       "      <th>std</th>\n",
       "      <td>0.499533</td>\n",
       "      <td>0.499533</td>\n",
       "      <td>0.469466</td>\n",
       "      <td>0.467215</td>\n",
       "      <td>0.077369</td>\n",
       "      <td>0.030002</td>\n",
       "      <td>0.010489</td>\n",
       "      <td>0.023909</td>\n",
       "      <td>0.002141</td>\n",
       "      <td>0.004906</td>\n",
       "      <td>...</td>\n",
       "      <td>0.001071</td>\n",
       "      <td>0.0</td>\n",
       "      <td>1.764068e-03</td>\n",
       "      <td>0.131611</td>\n",
       "      <td>0.003382</td>\n",
       "      <td>2.439118e-03</td>\n",
       "      <td>6.072735e-04</td>\n",
       "      <td>1.521970e-03</td>\n",
       "      <td>1.959498e-03</td>\n",
       "      <td>0.309213</td>\n",
       "    </tr>\n",
       "    <tr>\n",
       "      <th>min</th>\n",
       "      <td>0.000000</td>\n",
       "      <td>0.000000</td>\n",
       "      <td>0.000000</td>\n",
       "      <td>0.000000</td>\n",
       "      <td>0.000000</td>\n",
       "      <td>0.000000</td>\n",
       "      <td>0.000000</td>\n",
       "      <td>0.000000</td>\n",
       "      <td>0.000000</td>\n",
       "      <td>0.000000</td>\n",
       "      <td>...</td>\n",
       "      <td>0.000000</td>\n",
       "      <td>0.0</td>\n",
       "      <td>0.000000e+00</td>\n",
       "      <td>0.000000</td>\n",
       "      <td>0.000000</td>\n",
       "      <td>0.000000e+00</td>\n",
       "      <td>0.000000e+00</td>\n",
       "      <td>0.000000e+00</td>\n",
       "      <td>0.000000e+00</td>\n",
       "      <td>0.000000</td>\n",
       "    </tr>\n",
       "    <tr>\n",
       "      <th>25%</th>\n",
       "      <td>0.000000</td>\n",
       "      <td>0.000000</td>\n",
       "      <td>0.000000</td>\n",
       "      <td>0.000000</td>\n",
       "      <td>0.000000</td>\n",
       "      <td>1.000000</td>\n",
       "      <td>0.000000</td>\n",
       "      <td>0.000000</td>\n",
       "      <td>0.000000</td>\n",
       "      <td>0.000000</td>\n",
       "      <td>...</td>\n",
       "      <td>0.000000</td>\n",
       "      <td>0.0</td>\n",
       "      <td>4.671053e-08</td>\n",
       "      <td>0.084805</td>\n",
       "      <td>0.000000</td>\n",
       "      <td>3.550000e-07</td>\n",
       "      <td>4.671053e-08</td>\n",
       "      <td>4.407895e-08</td>\n",
       "      <td>1.720602e-08</td>\n",
       "      <td>0.000000</td>\n",
       "    </tr>\n",
       "    <tr>\n",
       "      <th>50%</th>\n",
       "      <td>1.000000</td>\n",
       "      <td>0.000000</td>\n",
       "      <td>1.000000</td>\n",
       "      <td>0.000000</td>\n",
       "      <td>0.000000</td>\n",
       "      <td>1.000000</td>\n",
       "      <td>0.000000</td>\n",
       "      <td>0.000000</td>\n",
       "      <td>0.000000</td>\n",
       "      <td>0.000000</td>\n",
       "      <td>...</td>\n",
       "      <td>0.000000</td>\n",
       "      <td>0.0</td>\n",
       "      <td>1.815789e-07</td>\n",
       "      <td>0.104261</td>\n",
       "      <td>0.000000</td>\n",
       "      <td>1.875000e-06</td>\n",
       "      <td>2.598684e-07</td>\n",
       "      <td>9.868421e-08</td>\n",
       "      <td>8.284379e-08</td>\n",
       "      <td>0.000000</td>\n",
       "    </tr>\n",
       "    <tr>\n",
       "      <th>75%</th>\n",
       "      <td>1.000000</td>\n",
       "      <td>1.000000</td>\n",
       "      <td>1.000000</td>\n",
       "      <td>1.000000</td>\n",
       "      <td>0.000000</td>\n",
       "      <td>1.000000</td>\n",
       "      <td>0.000000</td>\n",
       "      <td>0.000000</td>\n",
       "      <td>0.000000</td>\n",
       "      <td>0.000000</td>\n",
       "      <td>...</td>\n",
       "      <td>0.000000</td>\n",
       "      <td>0.0</td>\n",
       "      <td>6.513158e-07</td>\n",
       "      <td>0.160833</td>\n",
       "      <td>0.000000</td>\n",
       "      <td>2.105000e-06</td>\n",
       "      <td>2.769737e-07</td>\n",
       "      <td>4.644737e-07</td>\n",
       "      <td>3.575028e-07</td>\n",
       "      <td>0.000000</td>\n",
       "    </tr>\n",
       "    <tr>\n",
       "      <th>max</th>\n",
       "      <td>1.000000</td>\n",
       "      <td>1.000000</td>\n",
       "      <td>1.000000</td>\n",
       "      <td>1.000000</td>\n",
       "      <td>1.000000</td>\n",
       "      <td>1.000000</td>\n",
       "      <td>1.000000</td>\n",
       "      <td>1.000000</td>\n",
       "      <td>1.000000</td>\n",
       "      <td>1.000000</td>\n",
       "      <td>...</td>\n",
       "      <td>1.000000</td>\n",
       "      <td>0.0</td>\n",
       "      <td>5.427632e-01</td>\n",
       "      <td>1.000000</td>\n",
       "      <td>1.000000</td>\n",
       "      <td>1.000000e+00</td>\n",
       "      <td>2.171053e-01</td>\n",
       "      <td>4.605263e-01</td>\n",
       "      <td>1.000000e+00</td>\n",
       "      <td>1.000000</td>\n",
       "    </tr>\n",
       "  </tbody>\n",
       "</table>\n",
       "<p>8 rows × 32 columns</p>\n",
       "</div>"
      ],
      "text/plain": [
       "          cat_var_19     cat_var_20     cat_var_21     cat_var_22  \\\n",
       "count  872444.000000  872444.000000  872444.000000  872444.000000   \n",
       "mean        0.521605       0.478395       0.672051       0.321927   \n",
       "std         0.499533       0.499533       0.469466       0.467215   \n",
       "min         0.000000       0.000000       0.000000       0.000000   \n",
       "25%         0.000000       0.000000       0.000000       0.000000   \n",
       "50%         1.000000       0.000000       1.000000       0.000000   \n",
       "75%         1.000000       1.000000       1.000000       1.000000   \n",
       "max         1.000000       1.000000       1.000000       1.000000   \n",
       "\n",
       "          cat_var_23     cat_var_24     cat_var_25     cat_var_26  \\\n",
       "count  872444.000000  872444.000000  872444.000000  872444.000000   \n",
       "mean        0.006022       0.999099       0.000110       0.000572   \n",
       "std         0.077369       0.030002       0.010489       0.023909   \n",
       "min         0.000000       0.000000       0.000000       0.000000   \n",
       "25%         0.000000       1.000000       0.000000       0.000000   \n",
       "50%         0.000000       1.000000       0.000000       0.000000   \n",
       "75%         0.000000       1.000000       0.000000       0.000000   \n",
       "max         1.000000       1.000000       1.000000       1.000000   \n",
       "\n",
       "          cat_var_27     cat_var_28      ...           cat_var_41  cat_var_42  \\\n",
       "count  872444.000000  872444.000000      ...        872444.000000    872444.0   \n",
       "mean        0.000005       0.000024      ...             0.000001         0.0   \n",
       "std         0.002141       0.004906      ...             0.001071         0.0   \n",
       "min         0.000000       0.000000      ...             0.000000         0.0   \n",
       "25%         0.000000       0.000000      ...             0.000000         0.0   \n",
       "50%         0.000000       0.000000      ...             0.000000         0.0   \n",
       "75%         0.000000       0.000000      ...             0.000000         0.0   \n",
       "max         1.000000       1.000000      ...             1.000000         0.0   \n",
       "\n",
       "          num_var_1      num_var_2      num_var_3     num_var_4     num_var_5  \\\n",
       "count  8.724440e+05  872444.000000  872444.000000  8.724440e+05  8.724440e+05   \n",
       "mean   1.868032e-05       0.160743       0.000017  4.428487e-05  7.441069e-06   \n",
       "std    1.764068e-03       0.131611       0.003382  2.439118e-03  6.072735e-04   \n",
       "min    0.000000e+00       0.000000       0.000000  0.000000e+00  0.000000e+00   \n",
       "25%    4.671053e-08       0.084805       0.000000  3.550000e-07  4.671053e-08   \n",
       "50%    1.815789e-07       0.104261       0.000000  1.875000e-06  2.598684e-07   \n",
       "75%    6.513158e-07       0.160833       0.000000  2.105000e-06  2.769737e-07   \n",
       "max    5.427632e-01       1.000000       1.000000  1.000000e+00  2.171053e-01   \n",
       "\n",
       "          num_var_6     num_var_7         target  \n",
       "count  8.724440e+05  8.724440e+05  348978.000000  \n",
       "mean   1.523872e-05  2.128609e-05       0.107078  \n",
       "std    1.521970e-03  1.959498e-03       0.309213  \n",
       "min    0.000000e+00  0.000000e+00       0.000000  \n",
       "25%    4.407895e-08  1.720602e-08       0.000000  \n",
       "50%    9.868421e-08  8.284379e-08       0.000000  \n",
       "75%    4.644737e-07  3.575028e-07       0.000000  \n",
       "max    4.605263e-01  1.000000e+00       1.000000  \n",
       "\n",
       "[8 rows x 32 columns]"
      ]
     },
     "execution_count": 4,
     "metadata": {},
     "output_type": "execute_result"
    }
   ],
   "source": [
    "X.describe()"
   ]
  },
  {
   "cell_type": "markdown",
   "metadata": {},
   "source": [
    "## Check for missing values\n",
    "### For Feature cleaning"
   ]
  },
  {
   "cell_type": "code",
   "execution_count": 5,
   "metadata": {},
   "outputs": [
    {
     "name": "stdout",
     "output_type": "stream",
     "text": [
      "Column - Uniqe - Null\n",
      "cat_var_1 538 True -- 34474\n",
      "cat_var_3 621 True -- 97215\n",
      "cat_var_6 519 True -- 21943\n",
      "cat_var_8 466 True -- 117876\n",
      "target 3 True -- 523466\n"
     ]
    }
   ],
   "source": [
    "print ('Column - Uniqe - Null')\n",
    "for col in X:\n",
    "    if X[col].isnull().any():\n",
    "        print(col,len(X[col].unique()),X[col].isnull().any(),\"--\",X[col].isnull().sum())"
   ]
  },
  {
   "cell_type": "code",
   "execution_count": 6,
   "metadata": {
    "collapsed": true
   },
   "outputs": [],
   "source": [
    "X = X.drop('transaction_id',axis=1)\n",
    "X = X.drop('cat_var_1',axis=1)\n",
    "X = X.drop('cat_var_3',axis=1)\n",
    "X = X.drop('cat_var_6',axis=1)\n",
    "X = X.drop('cat_var_8',axis=1)"
   ]
  },
  {
   "cell_type": "code",
   "execution_count": 7,
   "metadata": {},
   "outputs": [
    {
     "name": "stdout",
     "output_type": "stream",
     "text": [
      "Column - Uniqe - Null\n",
      "cat_var_10 23 False\n",
      "cat_var_11 5 False\n",
      "cat_var_12 5 False\n",
      "cat_var_13 52 False\n",
      "cat_var_14 12 False\n",
      "cat_var_15 2 False\n",
      "cat_var_16 2 False\n",
      "cat_var_17 2 False\n",
      "cat_var_18 2 False\n",
      "cat_var_19 2 False\n",
      "cat_var_2 63 False\n",
      "cat_var_20 2 False\n",
      "cat_var_21 2 False\n",
      "cat_var_22 2 False\n",
      "cat_var_23 2 False\n",
      "cat_var_24 2 False\n",
      "cat_var_25 2 False\n",
      "cat_var_26 2 False\n",
      "cat_var_27 2 False\n",
      "cat_var_28 2 False\n",
      "cat_var_29 2 False\n",
      "cat_var_30 2 False\n",
      "cat_var_31 2 False\n",
      "cat_var_32 2 False\n",
      "cat_var_33 2 False\n",
      "cat_var_34 2 False\n",
      "cat_var_35 2 False\n",
      "cat_var_36 2 False\n",
      "cat_var_37 2 False\n",
      "cat_var_38 1 False\n",
      "cat_var_39 2 False\n",
      "cat_var_4 2 False\n",
      "cat_var_40 2 False\n",
      "cat_var_41 2 False\n",
      "cat_var_42 1 False\n",
      "cat_var_5 2 False\n",
      "cat_var_7 23 False\n",
      "cat_var_9 5 False\n",
      "num_var_1 17296 False\n",
      "num_var_2 6050 False\n",
      "num_var_3 14 False\n",
      "num_var_4 1111 False\n",
      "num_var_5 6206 False\n",
      "num_var_6 15527 False\n",
      "num_var_7 44177 False\n"
     ]
    }
   ],
   "source": [
    "print ('Column - Uniqe - Null')\n",
    "for col in X:\n",
    "    if not(X[col].isnull().any()):\n",
    "        print (col,len(X[col].unique()),X[col].isnull().any())"
   ]
  },
  {
   "cell_type": "code",
   "execution_count": 8,
   "metadata": {
    "collapsed": true
   },
   "outputs": [],
   "source": [
    "keys = {}\n",
    "le = LabelEncoder()\n",
    "for col in X:\n",
    "    #print col,len(X[col].unique()),X[col].isnull().any()\n",
    "    #if False == X[col].isnull().any() and len(X[col].unique()) < 10 and 'cat_var' in col:\n",
    "    if False == X[col].isnull().any() and 'cat_var' in col:\n",
    "        X[col] = le.fit_transform(X[col])\n",
    "        le_name_mapping = dict(zip(le.classes_, le.transform(le.classes_)))\n",
    "        keys[col] = le_name_mapping\n",
    "        #print col,\" - OK\""
   ]
  },
  {
   "cell_type": "code",
   "execution_count": null,
   "metadata": {},
   "outputs": [],
   "source": [
    "for x in keys:\n",
    "    print(x)"
   ]
  },
  {
   "cell_type": "code",
   "execution_count": 9,
   "metadata": {
    "collapsed": true
   },
   "outputs": [],
   "source": [
    "X = data_train\n",
    "X = X.drop('transaction_id',axis=1)\n",
    "X = X.drop('cat_var_1',axis=1)\n",
    "X = X.drop('cat_var_3',axis=1)\n",
    "X = X.drop('cat_var_6',axis=1)\n",
    "X = X.drop('cat_var_8',axis=1)"
   ]
  },
  {
   "cell_type": "code",
   "execution_count": 10,
   "metadata": {
    "collapsed": true
   },
   "outputs": [],
   "source": [
    "def convert2(x,col):\n",
    "    return keys[col][x]\n",
    "\n",
    "for col in X:\n",
    "    #print(X[col])\n",
    "    if col in keys.keys():\n",
    "        X[col] = [convert2(a,col) for a in X[col]]"
   ]
  },
  {
   "cell_type": "code",
   "execution_count": null,
   "metadata": {},
   "outputs": [],
   "source": [
    "X['target'].unique()"
   ]
  },
  {
   "cell_type": "code",
   "execution_count": 11,
   "metadata": {
    "collapsed": true
   },
   "outputs": [],
   "source": [
    "y = X['target']\n",
    "X = X.drop('target',axis=1)"
   ]
  },
  {
   "cell_type": "code",
   "execution_count": 14,
   "metadata": {},
   "outputs": [],
   "source": [
    "bdt = AdaBoostClassifier(DecisionTreeClassifier(max_depth=3),algorithm=\"SAMME\",n_estimators=200)\n",
    "#bdt = AdaBoostClassifier(RandomForestClassifier(max_depth=2, random_state=2),algorithm=\"SAMME.R\",n_estimators=200) \n",
    "#Score: 0.711 ^^"
   ]
  },
  {
   "cell_type": "code",
   "execution_count": 15,
   "metadata": {},
   "outputs": [
    {
     "data": {
      "text/plain": [
       "AdaBoostClassifier(algorithm='SAMME',\n",
       "          base_estimator=DecisionTreeClassifier(class_weight=None, criterion='gini', max_depth=3,\n",
       "            max_features=None, max_leaf_nodes=None,\n",
       "            min_impurity_decrease=0.0, min_impurity_split=None,\n",
       "            min_samples_leaf=1, min_samples_split=2,\n",
       "            min_weight_fraction_leaf=0.0, presort=False, random_state=None,\n",
       "            splitter='best'),\n",
       "          learning_rate=1.0, n_estimators=200, random_state=None)"
      ]
     },
     "execution_count": 15,
     "metadata": {},
     "output_type": "execute_result"
    }
   ],
   "source": [
    "bdt.fit(X,y)"
   ]
  },
  {
   "cell_type": "code",
   "execution_count": null,
   "metadata": {},
   "outputs": [],
   "source": [
    "clf = GaussianNB()\n",
    "clf.fit(X,y)"
   ]
  },
  {
   "cell_type": "code",
   "execution_count": null,
   "metadata": {
    "collapsed": true
   },
   "outputs": [],
   "source": [
    "clf = SVC()\n",
    "clf.fit(X,y)"
   ]
  },
  {
   "cell_type": "code",
   "execution_count": null,
   "metadata": {},
   "outputs": [],
   "source": [
    "neigh = KNeighborsClassifier(n_neighbors=5)\n",
    "neigh.fit(X, y) "
   ]
  },
  {
   "cell_type": "code",
   "execution_count": null,
   "metadata": {
    "collapsed": true
   },
   "outputs": [],
   "source": [
    "clf = RandomForestClassifier(max_depth=2, random_state=0)\n",
    "clf.fit(X, y)"
   ]
  },
  {
   "cell_type": "code",
   "execution_count": null,
   "metadata": {
    "collapsed": true
   },
   "outputs": [],
   "source": [
    "mlp = MLPClassifier(hidden_layer_sizes=10, alpha=1, random_state=1) \n",
    "mlp.fit(X, y)"
   ]
  },
  {
   "cell_type": "code",
   "execution_count": 16,
   "metadata": {
    "collapsed": true
   },
   "outputs": [],
   "source": [
    "X_test = data_test.drop('transaction_id',axis=1)\n",
    "X_test = X_test.drop('cat_var_1',axis=1)\n",
    "X_test = X_test.drop('cat_var_3',axis=1)\n",
    "X_test = X_test.drop('cat_var_6',axis=1)\n",
    "X_test = X_test.drop('cat_var_8',axis=1)"
   ]
  },
  {
   "cell_type": "code",
   "execution_count": 17,
   "metadata": {
    "collapsed": true
   },
   "outputs": [],
   "source": [
    "def convert2(x,col):\n",
    "    return keys[col][x]\n",
    "\n",
    "for col in X_test:\n",
    "    #print(X[col])\n",
    "    if col in keys.keys():\n",
    "        X_test[col] = [convert2(a,col) for a in X_test[col]]"
   ]
  },
  {
   "cell_type": "code",
   "execution_count": 18,
   "metadata": {
    "collapsed": true
   },
   "outputs": [],
   "source": [
    "#y_test = clf.predict_proba(X_test)\n",
    "#y_test = neigh.predict_proba(X_test)\n",
    "y_test = bdt.predict_proba(X_test)"
   ]
  },
  {
   "cell_type": "code",
   "execution_count": 19,
   "metadata": {},
   "outputs": [
    {
     "data": {
      "text/plain": [
       "array([[ 0.56366985,  0.43633015],\n",
       "       [ 0.56153836,  0.43846164],\n",
       "       [ 0.56188588,  0.43811412],\n",
       "       ..., \n",
       "       [ 0.56195133,  0.43804867],\n",
       "       [ 0.56188588,  0.43811412],\n",
       "       [ 0.56196226,  0.43803774]])"
      ]
     },
     "execution_count": 19,
     "metadata": {},
     "output_type": "execute_result"
    }
   ],
   "source": [
    "y_test"
   ]
  },
  {
   "cell_type": "code",
   "execution_count": 20,
   "metadata": {
    "collapsed": true
   },
   "outputs": [],
   "source": [
    "y_test0 = pd.DataFrame(y_test[:,0])\n",
    "y_test1 = pd.DataFrame(y_test[:,1])\n",
    "data_test = pd.read_csv('test.csv')\n",
    "df = data_test['transaction_id'].to_frame()"
   ]
  },
  {
   "cell_type": "code",
   "execution_count": 21,
   "metadata": {},
   "outputs": [
    {
     "data": {
      "text/html": [
       "<div>\n",
       "<style>\n",
       "    .dataframe thead tr:only-child th {\n",
       "        text-align: right;\n",
       "    }\n",
       "\n",
       "    .dataframe thead th {\n",
       "        text-align: left;\n",
       "    }\n",
       "\n",
       "    .dataframe tbody tr th {\n",
       "        vertical-align: top;\n",
       "    }\n",
       "</style>\n",
       "<table border=\"1\" class=\"dataframe\">\n",
       "  <thead>\n",
       "    <tr style=\"text-align: right;\">\n",
       "      <th></th>\n",
       "      <th>transaction_id</th>\n",
       "    </tr>\n",
       "  </thead>\n",
       "  <tbody>\n",
       "    <tr>\n",
       "      <th>0</th>\n",
       "      <td>id_1</td>\n",
       "    </tr>\n",
       "    <tr>\n",
       "      <th>1</th>\n",
       "      <td>id_6</td>\n",
       "    </tr>\n",
       "    <tr>\n",
       "      <th>2</th>\n",
       "      <td>id_9</td>\n",
       "    </tr>\n",
       "    <tr>\n",
       "      <th>3</th>\n",
       "      <td>id_14</td>\n",
       "    </tr>\n",
       "    <tr>\n",
       "      <th>4</th>\n",
       "      <td>id_15</td>\n",
       "    </tr>\n",
       "  </tbody>\n",
       "</table>\n",
       "</div>"
      ],
      "text/plain": [
       "  transaction_id\n",
       "0           id_1\n",
       "1           id_6\n",
       "2           id_9\n",
       "3          id_14\n",
       "4          id_15"
      ]
     },
     "execution_count": 21,
     "metadata": {},
     "output_type": "execute_result"
    }
   ],
   "source": [
    "df.head()"
   ]
  },
  {
   "cell_type": "code",
   "execution_count": 22,
   "metadata": {
    "collapsed": true
   },
   "outputs": [],
   "source": [
    "#result0 = pd.concat([df, y_test0], axis=1)\n",
    "result1 = pd.concat([df, y_test1], axis=1)"
   ]
  },
  {
   "cell_type": "code",
   "execution_count": 23,
   "metadata": {
    "collapsed": true
   },
   "outputs": [],
   "source": [
    "#result0.columns = ['transaction_id','target']\n",
    "#result0.to_csv('test_results0.csv',index=False)\n",
    "result1.columns = ['transaction_id','target']\n",
    "result1.to_csv('test_results1.csv',index=False)"
   ]
  }
 ],
 "metadata": {
  "kernelspec": {
   "display_name": "Python 3",
   "language": "python",
   "name": "python3"
  },
  "language_info": {
   "codemirror_mode": {
    "name": "ipython",
    "version": 3
   },
   "file_extension": ".py",
   "mimetype": "text/x-python",
   "name": "python",
   "nbconvert_exporter": "python",
   "pygments_lexer": "ipython3",
   "version": "3.5.4"
  }
 },
 "nbformat": 4,
 "nbformat_minor": 2
}
